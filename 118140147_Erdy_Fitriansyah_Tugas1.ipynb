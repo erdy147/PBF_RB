{
  "nbformat": 4,
  "nbformat_minor": 0,
  "metadata": {
    "colab": {
      "provenance": [],
      "authorship_tag": "ABX9TyPTQoSiB0h4oYALImTwdniw",
      "include_colab_link": true
    },
    "kernelspec": {
      "name": "python3",
      "display_name": "Python 3"
    },
    "language_info": {
      "name": "python"
    }
  },
  "cells": [
    {
      "cell_type": "markdown",
      "metadata": {
        "id": "view-in-github",
        "colab_type": "text"
      },
      "source": [
        "<a href=\"https://colab.research.google.com/github/erdy147/PBF_RB/blob/main/118140147_Erdy_Fitriansyah_Tugas1.ipynb\" target=\"_parent\"><img src=\"https://colab.research.google.com/assets/colab-badge.svg\" alt=\"Open In Colab\"/></a>"
      ]
    },
    {
      "cell_type": "markdown",
      "source": [],
      "metadata": {
        "id": "LR2Mkwbyc5rY"
      }
    },
    {
      "cell_type": "code",
      "source": [
        "def encrypt_password(password):\n",
        "    encrypted_password = \"\"\n",
        "    for char in password:\n",
        "        ascii_value = ord(char)\n",
        "        value1 = (ascii_value // 26) + 80\n",
        "        value2 = (ascii_value % 26) + 80\n",
        "        value3 = \"+\" if value1 > value2 else \"-\"\n",
        "        encrypted_password += chr(value1) + chr(value2) + value3\n",
        "    return encrypted_password\n",
        "\n",
        "password = input(\"Enter password (max 100 characters): \")\n",
        "if len(password) > 100:\n",
        "    print(\"Error: Password too long\")\n",
        "else:\n",
        "    encrypted_password = encrypt_password(password)\n",
        "    print(\"Encrypted password:\", encrypted_password)"
      ],
      "metadata": {
        "colab": {
          "base_uri": "https://localhost:8080/"
        },
        "id": "x-bQ4WAKMkGK",
        "outputId": "1cc9fb18-ee9c-480c-9758-7c007109d949"
      },
      "execution_count": 1,
      "outputs": [
        {
          "output_type": "stream",
          "name": "stdout",
          "text": [
            "Enter password (max 100 characters): bismillah\n",
            "Encrypted password: Sd-TQ+T[-TU-TQ+TT-TT-Sc-TP+\n"
          ]
        }
      ]
    }
  ]
}